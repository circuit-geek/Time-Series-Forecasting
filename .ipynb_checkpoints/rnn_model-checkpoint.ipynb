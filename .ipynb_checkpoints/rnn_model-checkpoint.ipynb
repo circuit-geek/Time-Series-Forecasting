{
 "cells": [
  {
   "cell_type": "code",
   "execution_count": 23,
   "metadata": {
    "id": "ue43sddbJPxv"
   },
   "outputs": [],
   "source": [
    "import numpy as np\n",
    "import pandas as pd\n",
    "import matplotlib.pyplot as plt\n",
    "import seaborn as sns\n",
    "from tensorflow.keras.models import Sequential\n",
    "from tensorflow.keras.layers import LSTM\n",
    "from tensorflow.keras.layers import Dense, Dropout\n",
    "from tensorflow.keras.layers import Conv1D, Bidirectional, TimeDistributed\n",
    "from tensorflow.keras.layers import MaxPooling1D, Flatten\n",
    "from tensorflow.keras.regularizers import L1, L2\n",
    "from tensorflow.keras.metrics import Accuracy\n",
    "from tensorflow.keras.metrics import RootMeanSquaredError\n",
    "from sklearn.preprocessing import StandardScaler, MinMaxScaler\n",
    "from keras.models import Sequential\n",
    "from keras.layers import Dense, SimpleRNN"
   ]
  },
  {
   "cell_type": "code",
   "execution_count": 4,
   "metadata": {
    "colab": {
     "base_uri": "https://localhost:8080/"
    },
    "id": "zZlQti0XJSp6",
    "outputId": "501049b6-788d-4211-b088-09cfe51219f7"
   },
   "outputs": [
    {
     "name": "stdout",
     "output_type": "stream",
     "text": [
      "Mounted at /content/gdrive\n"
     ]
    }
   ],
   "source": [
    "from google.colab import drive\n",
    "drive.mount('/content/gdrive')"
   ]
  },
  {
   "cell_type": "code",
   "execution_count": 5,
   "metadata": {
    "id": "f1d3e41e"
   },
   "outputs": [],
   "source": [
    "data = pd.read_csv(\"/content/gdrive/MyDrive/prices-split-adjusted.csv\")"
   ]
  },
  {
   "cell_type": "code",
   "execution_count": 6,
   "metadata": {
    "id": "6QNjujy8LDai"
   },
   "outputs": [],
   "source": [
    "data['date'] = pd.to_datetime(data['date'])"
   ]
  },
  {
   "cell_type": "code",
   "execution_count": 7,
   "metadata": {
    "colab": {
     "base_uri": "https://localhost:8080/"
    },
    "id": "XzH14tHbLJDw",
    "outputId": "26c063eb-8e80-4c9d-a388-691ad8cf238c"
   },
   "outputs": [
    {
     "name": "stdout",
     "output_type": "stream",
     "text": [
      "<class 'pandas.core.frame.DataFrame'>\n",
      "RangeIndex: 851264 entries, 0 to 851263\n",
      "Data columns (total 7 columns):\n",
      " #   Column  Non-Null Count   Dtype         \n",
      "---  ------  --------------   -----         \n",
      " 0   date    851264 non-null  datetime64[ns]\n",
      " 1   symbol  851264 non-null  object        \n",
      " 2   open    851264 non-null  float64       \n",
      " 3   close   851264 non-null  float64       \n",
      " 4   low     851264 non-null  float64       \n",
      " 5   high    851264 non-null  float64       \n",
      " 6   volume  851264 non-null  float64       \n",
      "dtypes: datetime64[ns](1), float64(5), object(1)\n",
      "memory usage: 45.5+ MB\n"
     ]
    }
   ],
   "source": [
    "data.info()"
   ]
  },
  {
   "cell_type": "code",
   "execution_count": 8,
   "metadata": {
    "id": "mCBpI2W6LK3u"
   },
   "outputs": [],
   "source": [
    "specific_rows = ['GOOGL',\n",
    "                'NVDA',\n",
    "                'IBM',\n",
    "                'PYPL',\n",
    "                'UPS']"
   ]
  },
  {
   "cell_type": "code",
   "execution_count": 9,
   "metadata": {
    "colab": {
     "base_uri": "https://localhost:8080/"
    },
    "id": "da5ff62a",
    "outputId": "5825e95c-f77b-4168-c9cb-9c9ae8bb513b"
   },
   "outputs": [
    {
     "name": "stderr",
     "output_type": "stream",
     "text": [
      "/usr/local/lib/python3.7/dist-packages/ipykernel_launcher.py:3: SettingWithCopyWarning: \n",
      "A value is trying to be set on a copy of a slice from a DataFrame.\n",
      "Try using .loc[row_indexer,col_indexer] = value instead\n",
      "\n",
      "See the caveats in the documentation: https://pandas.pydata.org/pandas-docs/stable/user_guide/indexing.html#returning-a-view-versus-a-copy\n",
      "  This is separate from the ipykernel package so we can avoid doing imports until\n"
     ]
    }
   ],
   "source": [
    "df1 = data[data['symbol'].isin(specific_rows)]\n",
    "df1.reset_index(drop=True, inplace=True)\n",
    "df1['month'] = pd.DatetimeIndex(df1.date).month"
   ]
  },
  {
   "cell_type": "code",
   "execution_count": 10,
   "metadata": {
    "colab": {
     "base_uri": "https://localhost:8080/",
     "height": 424
    },
    "id": "aaxO2h2nLVof",
    "outputId": "494d44c4-c5fb-4f20-f483-43d8632088ac"
   },
   "outputs": [
    {
     "data": {
      "text/html": [
       "\n",
       "  <div id=\"df-d0335add-4aeb-43be-999f-6313ceb63331\">\n",
       "    <div class=\"colab-df-container\">\n",
       "      <div>\n",
       "<style scoped>\n",
       "    .dataframe tbody tr th:only-of-type {\n",
       "        vertical-align: middle;\n",
       "    }\n",
       "\n",
       "    .dataframe tbody tr th {\n",
       "        vertical-align: top;\n",
       "    }\n",
       "\n",
       "    .dataframe thead th {\n",
       "        text-align: right;\n",
       "    }\n",
       "</style>\n",
       "<table border=\"1\" class=\"dataframe\">\n",
       "  <thead>\n",
       "    <tr style=\"text-align: right;\">\n",
       "      <th></th>\n",
       "      <th>date</th>\n",
       "      <th>symbol</th>\n",
       "      <th>open</th>\n",
       "      <th>close</th>\n",
       "      <th>low</th>\n",
       "      <th>high</th>\n",
       "      <th>volume</th>\n",
       "      <th>month</th>\n",
       "    </tr>\n",
       "  </thead>\n",
       "  <tbody>\n",
       "    <tr>\n",
       "      <th>0</th>\n",
       "      <td>2010-01-04</td>\n",
       "      <td>GOOGL</td>\n",
       "      <td>313.788792</td>\n",
       "      <td>313.688694</td>\n",
       "      <td>312.432438</td>\n",
       "      <td>315.070073</td>\n",
       "      <td>3908400.0</td>\n",
       "      <td>1</td>\n",
       "    </tr>\n",
       "    <tr>\n",
       "      <th>1</th>\n",
       "      <td>2010-01-04</td>\n",
       "      <td>IBM</td>\n",
       "      <td>131.179993</td>\n",
       "      <td>132.449997</td>\n",
       "      <td>130.850006</td>\n",
       "      <td>132.970001</td>\n",
       "      <td>6155300.0</td>\n",
       "      <td>1</td>\n",
       "    </tr>\n",
       "    <tr>\n",
       "      <th>2</th>\n",
       "      <td>2010-01-04</td>\n",
       "      <td>NVDA</td>\n",
       "      <td>18.510000</td>\n",
       "      <td>18.490000</td>\n",
       "      <td>18.110001</td>\n",
       "      <td>18.620001</td>\n",
       "      <td>20005100.0</td>\n",
       "      <td>1</td>\n",
       "    </tr>\n",
       "    <tr>\n",
       "      <th>3</th>\n",
       "      <td>2010-01-04</td>\n",
       "      <td>UPS</td>\n",
       "      <td>58.180000</td>\n",
       "      <td>58.180000</td>\n",
       "      <td>57.980000</td>\n",
       "      <td>58.820000</td>\n",
       "      <td>3897200.0</td>\n",
       "      <td>1</td>\n",
       "    </tr>\n",
       "    <tr>\n",
       "      <th>4</th>\n",
       "      <td>2010-01-05</td>\n",
       "      <td>GOOGL</td>\n",
       "      <td>313.903904</td>\n",
       "      <td>312.307316</td>\n",
       "      <td>311.081089</td>\n",
       "      <td>314.234226</td>\n",
       "      <td>6003300.0</td>\n",
       "      <td>1</td>\n",
       "    </tr>\n",
       "    <tr>\n",
       "      <th>...</th>\n",
       "      <td>...</td>\n",
       "      <td>...</td>\n",
       "      <td>...</td>\n",
       "      <td>...</td>\n",
       "      <td>...</td>\n",
       "      <td>...</td>\n",
       "      <td>...</td>\n",
       "      <td>...</td>\n",
       "    </tr>\n",
       "    <tr>\n",
       "      <th>7421</th>\n",
       "      <td>2016-12-30</td>\n",
       "      <td>GOOGL</td>\n",
       "      <td>803.210022</td>\n",
       "      <td>792.450012</td>\n",
       "      <td>789.619995</td>\n",
       "      <td>803.289978</td>\n",
       "      <td>1728300.0</td>\n",
       "      <td>12</td>\n",
       "    </tr>\n",
       "    <tr>\n",
       "      <th>7422</th>\n",
       "      <td>2016-12-30</td>\n",
       "      <td>IBM</td>\n",
       "      <td>166.440002</td>\n",
       "      <td>165.990005</td>\n",
       "      <td>165.500000</td>\n",
       "      <td>166.699997</td>\n",
       "      <td>2952800.0</td>\n",
       "      <td>12</td>\n",
       "    </tr>\n",
       "    <tr>\n",
       "      <th>7423</th>\n",
       "      <td>2016-12-30</td>\n",
       "      <td>NVDA</td>\n",
       "      <td>111.349998</td>\n",
       "      <td>106.739998</td>\n",
       "      <td>106.300003</td>\n",
       "      <td>111.919998</td>\n",
       "      <td>30246000.0</td>\n",
       "      <td>12</td>\n",
       "    </tr>\n",
       "    <tr>\n",
       "      <th>7424</th>\n",
       "      <td>2016-12-30</td>\n",
       "      <td>PYPL</td>\n",
       "      <td>39.959999</td>\n",
       "      <td>39.470001</td>\n",
       "      <td>39.340000</td>\n",
       "      <td>40.070000</td>\n",
       "      <td>5007500.0</td>\n",
       "      <td>12</td>\n",
       "    </tr>\n",
       "    <tr>\n",
       "      <th>7425</th>\n",
       "      <td>2016-12-30</td>\n",
       "      <td>UPS</td>\n",
       "      <td>115.239998</td>\n",
       "      <td>114.639999</td>\n",
       "      <td>114.360001</td>\n",
       "      <td>115.430000</td>\n",
       "      <td>1718200.0</td>\n",
       "      <td>12</td>\n",
       "    </tr>\n",
       "  </tbody>\n",
       "</table>\n",
       "<p>7426 rows × 8 columns</p>\n",
       "</div>\n",
       "      <button class=\"colab-df-convert\" onclick=\"convertToInteractive('df-d0335add-4aeb-43be-999f-6313ceb63331')\"\n",
       "              title=\"Convert this dataframe to an interactive table.\"\n",
       "              style=\"display:none;\">\n",
       "        \n",
       "  <svg xmlns=\"http://www.w3.org/2000/svg\" height=\"24px\"viewBox=\"0 0 24 24\"\n",
       "       width=\"24px\">\n",
       "    <path d=\"M0 0h24v24H0V0z\" fill=\"none\"/>\n",
       "    <path d=\"M18.56 5.44l.94 2.06.94-2.06 2.06-.94-2.06-.94-.94-2.06-.94 2.06-2.06.94zm-11 1L8.5 8.5l.94-2.06 2.06-.94-2.06-.94L8.5 2.5l-.94 2.06-2.06.94zm10 10l.94 2.06.94-2.06 2.06-.94-2.06-.94-.94-2.06-.94 2.06-2.06.94z\"/><path d=\"M17.41 7.96l-1.37-1.37c-.4-.4-.92-.59-1.43-.59-.52 0-1.04.2-1.43.59L10.3 9.45l-7.72 7.72c-.78.78-.78 2.05 0 2.83L4 21.41c.39.39.9.59 1.41.59.51 0 1.02-.2 1.41-.59l7.78-7.78 2.81-2.81c.8-.78.8-2.07 0-2.86zM5.41 20L4 18.59l7.72-7.72 1.47 1.35L5.41 20z\"/>\n",
       "  </svg>\n",
       "      </button>\n",
       "      \n",
       "  <style>\n",
       "    .colab-df-container {\n",
       "      display:flex;\n",
       "      flex-wrap:wrap;\n",
       "      gap: 12px;\n",
       "    }\n",
       "\n",
       "    .colab-df-convert {\n",
       "      background-color: #E8F0FE;\n",
       "      border: none;\n",
       "      border-radius: 50%;\n",
       "      cursor: pointer;\n",
       "      display: none;\n",
       "      fill: #1967D2;\n",
       "      height: 32px;\n",
       "      padding: 0 0 0 0;\n",
       "      width: 32px;\n",
       "    }\n",
       "\n",
       "    .colab-df-convert:hover {\n",
       "      background-color: #E2EBFA;\n",
       "      box-shadow: 0px 1px 2px rgba(60, 64, 67, 0.3), 0px 1px 3px 1px rgba(60, 64, 67, 0.15);\n",
       "      fill: #174EA6;\n",
       "    }\n",
       "\n",
       "    [theme=dark] .colab-df-convert {\n",
       "      background-color: #3B4455;\n",
       "      fill: #D2E3FC;\n",
       "    }\n",
       "\n",
       "    [theme=dark] .colab-df-convert:hover {\n",
       "      background-color: #434B5C;\n",
       "      box-shadow: 0px 1px 3px 1px rgba(0, 0, 0, 0.15);\n",
       "      filter: drop-shadow(0px 1px 2px rgba(0, 0, 0, 0.3));\n",
       "      fill: #FFFFFF;\n",
       "    }\n",
       "  </style>\n",
       "\n",
       "      <script>\n",
       "        const buttonEl =\n",
       "          document.querySelector('#df-d0335add-4aeb-43be-999f-6313ceb63331 button.colab-df-convert');\n",
       "        buttonEl.style.display =\n",
       "          google.colab.kernel.accessAllowed ? 'block' : 'none';\n",
       "\n",
       "        async function convertToInteractive(key) {\n",
       "          const element = document.querySelector('#df-d0335add-4aeb-43be-999f-6313ceb63331');\n",
       "          const dataTable =\n",
       "            await google.colab.kernel.invokeFunction('convertToInteractive',\n",
       "                                                     [key], {});\n",
       "          if (!dataTable) return;\n",
       "\n",
       "          const docLinkHtml = 'Like what you see? Visit the ' +\n",
       "            '<a target=\"_blank\" href=https://colab.research.google.com/notebooks/data_table.ipynb>data table notebook</a>'\n",
       "            + ' to learn more about interactive tables.';\n",
       "          element.innerHTML = '';\n",
       "          dataTable['output_type'] = 'display_data';\n",
       "          await google.colab.output.renderOutput(dataTable, element);\n",
       "          const docLink = document.createElement('div');\n",
       "          docLink.innerHTML = docLinkHtml;\n",
       "          element.appendChild(docLink);\n",
       "        }\n",
       "      </script>\n",
       "    </div>\n",
       "  </div>\n",
       "  "
      ],
      "text/plain": [
       "           date symbol        open       close         low        high  \\\n",
       "0    2010-01-04  GOOGL  313.788792  313.688694  312.432438  315.070073   \n",
       "1    2010-01-04    IBM  131.179993  132.449997  130.850006  132.970001   \n",
       "2    2010-01-04   NVDA   18.510000   18.490000   18.110001   18.620001   \n",
       "3    2010-01-04    UPS   58.180000   58.180000   57.980000   58.820000   \n",
       "4    2010-01-05  GOOGL  313.903904  312.307316  311.081089  314.234226   \n",
       "...         ...    ...         ...         ...         ...         ...   \n",
       "7421 2016-12-30  GOOGL  803.210022  792.450012  789.619995  803.289978   \n",
       "7422 2016-12-30    IBM  166.440002  165.990005  165.500000  166.699997   \n",
       "7423 2016-12-30   NVDA  111.349998  106.739998  106.300003  111.919998   \n",
       "7424 2016-12-30   PYPL   39.959999   39.470001   39.340000   40.070000   \n",
       "7425 2016-12-30    UPS  115.239998  114.639999  114.360001  115.430000   \n",
       "\n",
       "          volume  month  \n",
       "0      3908400.0      1  \n",
       "1      6155300.0      1  \n",
       "2     20005100.0      1  \n",
       "3      3897200.0      1  \n",
       "4      6003300.0      1  \n",
       "...          ...    ...  \n",
       "7421   1728300.0     12  \n",
       "7422   2952800.0     12  \n",
       "7423  30246000.0     12  \n",
       "7424   5007500.0     12  \n",
       "7425   1718200.0     12  \n",
       "\n",
       "[7426 rows x 8 columns]"
      ]
     },
     "execution_count": 10,
     "metadata": {},
     "output_type": "execute_result"
    }
   ],
   "source": [
    "df1"
   ]
  },
  {
   "cell_type": "code",
   "execution_count": 11,
   "metadata": {
    "id": "L3MLMia8LYVq"
   },
   "outputs": [],
   "source": [
    "df3 = df1.reset_index()['close']"
   ]
  },
  {
   "cell_type": "code",
   "execution_count": 12,
   "metadata": {
    "colab": {
     "base_uri": "https://localhost:8080/"
    },
    "id": "CM_DAvJkLjTG",
    "outputId": "1e451358-749c-40b9-ef47-0c7f4491b08f"
   },
   "outputs": [
    {
     "data": {
      "text/plain": [
       "(7426,)"
      ]
     },
     "execution_count": 12,
     "metadata": {},
     "output_type": "execute_result"
    }
   ],
   "source": [
    "df3.shape"
   ]
  },
  {
   "cell_type": "code",
   "execution_count": 13,
   "metadata": {
    "colab": {
     "base_uri": "https://localhost:8080/"
    },
    "id": "kMVzHlVKLk8F",
    "outputId": "a4abe8e3-2165-439c-8817-0b27157dd811"
   },
   "outputs": [
    {
     "data": {
      "text/plain": [
       "0       313.688694\n",
       "1       132.449997\n",
       "2        18.490000\n",
       "3        58.180000\n",
       "4       312.307316\n",
       "           ...    \n",
       "7421    792.450012\n",
       "7422    165.990005\n",
       "7423    106.739998\n",
       "7424     39.470001\n",
       "7425    114.639999\n",
       "Name: close, Length: 7426, dtype: float64"
      ]
     },
     "execution_count": 13,
     "metadata": {},
     "output_type": "execute_result"
    }
   ],
   "source": [
    "df3"
   ]
  },
  {
   "cell_type": "code",
   "execution_count": 14,
   "metadata": {
    "id": "qWaxsH1ILmZA"
   },
   "outputs": [],
   "source": [
    "scaler = MinMaxScaler(feature_range=(0,1))\n",
    "df3 = scaler.fit_transform(np.array(df3).reshape(-1,1))"
   ]
  },
  {
   "cell_type": "code",
   "execution_count": 15,
   "metadata": {
    "colab": {
     "base_uri": "https://localhost:8080/"
    },
    "id": "O_QSM0SLLo2H",
    "outputId": "8aedf307-7979-4305-fcda-7a199b93bbf7"
   },
   "outputs": [
    {
     "data": {
      "text/plain": [
       "array([[0.36863399],\n",
       "       [0.14944489],\n",
       "       [0.01162228],\n",
       "       ...,\n",
       "       [0.11835135],\n",
       "       [0.03699538],\n",
       "       [0.12790557]])"
      ]
     },
     "execution_count": 15,
     "metadata": {},
     "output_type": "execute_result"
    }
   ],
   "source": [
    "df3"
   ]
  },
  {
   "cell_type": "code",
   "execution_count": 16,
   "metadata": {
    "id": "Evo497_2Lqdo"
   },
   "outputs": [],
   "source": [
    "training_size = int(len(df3)*0.65)\n",
    "test_size = len(df3)-training_size\n",
    "train_data,test_data = df3[0:training_size,:], df3[training_size:len(df3),:1]"
   ]
  },
  {
   "cell_type": "code",
   "execution_count": 17,
   "metadata": {
    "colab": {
     "base_uri": "https://localhost:8080/"
    },
    "id": "TGU1fHuFLsrd",
    "outputId": "8f1f0491-b95d-4d08-f089-fe148890ca9c"
   },
   "outputs": [
    {
     "data": {
      "text/plain": [
       "(4826, 2600)"
      ]
     },
     "execution_count": 17,
     "metadata": {},
     "output_type": "execute_result"
    }
   ],
   "source": [
    "training_size, test_size"
   ]
  },
  {
   "cell_type": "code",
   "execution_count": 18,
   "metadata": {
    "id": "cIBWZWmILuNo"
   },
   "outputs": [],
   "source": [
    "def create_dataset(dataset, time_step=1):\n",
    "    dataX, dataY = [], []\n",
    "    for i in range(len(dataset)-time_step-1):\n",
    "        a = dataset[i:(i+time_step), 0]   \n",
    "        dataX.append(a)\n",
    "        dataY.append(dataset[i + time_step, 0])\n",
    "    return np.array(dataX), np.array(dataY)"
   ]
  },
  {
   "cell_type": "code",
   "execution_count": 19,
   "metadata": {
    "id": "2liunb-7LyTc"
   },
   "outputs": [],
   "source": [
    "time_step = 100\n",
    "X_train, y_train = create_dataset(train_data, time_step)\n",
    "X_test, y_test = create_dataset(test_data, time_step)"
   ]
  },
  {
   "cell_type": "code",
   "execution_count": 20,
   "metadata": {
    "id": "-uVtaRV9LzxY"
   },
   "outputs": [],
   "source": [
    "X_train = X_train.reshape(X_train.shape[0],X_train.shape[1] , 1)\n",
    "X_test = X_test.reshape(X_test.shape[0],X_test.shape[1] , 1)"
   ]
  },
  {
   "cell_type": "code",
   "execution_count": 21,
   "metadata": {
    "colab": {
     "base_uri": "https://localhost:8080/"
    },
    "id": "DiedUG3ZL4C4",
    "outputId": "5ac5fbe7-40da-4965-8b42-67b7c964ddf9"
   },
   "outputs": [
    {
     "name": "stdout",
     "output_type": "stream",
     "text": [
      "(4725, 100, 1)\n",
      "(4725,)\n"
     ]
    },
    {
     "data": {
      "text/plain": [
       "(None, None)"
      ]
     },
     "execution_count": 21,
     "metadata": {},
     "output_type": "execute_result"
    }
   ],
   "source": [
    "print(X_train.shape), print(y_train.shape)"
   ]
  },
  {
   "cell_type": "code",
   "execution_count": 25,
   "metadata": {
    "id": "C6A4ukmSL66d"
   },
   "outputs": [],
   "source": [
    "rnn_model = Sequential()\n",
    "rnn_model.add(SimpleRNN(32, return_sequences=True))\n",
    "rnn_model.add(SimpleRNN(32, return_sequences=True))\n",
    "rnn_model.add(SimpleRNN(32))\n",
    "rnn_model.add(Dense(1)) # The time step of the output\n",
    "\n",
    "rnn_model.compile(optimizer='adam', loss='mean_squared_error')"
   ]
  },
  {
   "cell_type": "code",
   "execution_count": 29,
   "metadata": {
    "colab": {
     "base_uri": "https://localhost:8080/"
    },
    "id": "5oWQne5RFl6N",
    "outputId": "896c2766-3aa9-4333-e53f-9f8bc54a192d"
   },
   "outputs": [
    {
     "name": "stdout",
     "output_type": "stream",
     "text": [
      "Epoch 1/100\n",
      "74/74 [==============================] - 13s 101ms/step - loss: 0.0408 - val_loss: 0.2169\n",
      "Epoch 2/100\n",
      "74/74 [==============================] - 5s 71ms/step - loss: 9.9661e-04 - val_loss: 0.2104\n",
      "Epoch 3/100\n",
      "74/74 [==============================] - 5s 71ms/step - loss: 4.3690e-04 - val_loss: 0.2036\n",
      "Epoch 4/100\n",
      "74/74 [==============================] - 5s 70ms/step - loss: 2.6385e-04 - val_loss: 0.1965\n",
      "Epoch 5/100\n",
      "74/74 [==============================] - 5s 71ms/step - loss: 1.8891e-04 - val_loss: 0.1917\n",
      "Epoch 6/100\n",
      "74/74 [==============================] - 5s 70ms/step - loss: 1.4118e-04 - val_loss: 0.1877\n",
      "Epoch 7/100\n",
      "74/74 [==============================] - 5s 71ms/step - loss: 9.5216e-05 - val_loss: 0.1850\n",
      "Epoch 8/100\n",
      "74/74 [==============================] - 5s 70ms/step - loss: 7.2835e-05 - val_loss: 0.1840\n",
      "Epoch 9/100\n",
      "74/74 [==============================] - 5s 68ms/step - loss: 5.7411e-05 - val_loss: 0.1832\n",
      "Epoch 10/100\n",
      "74/74 [==============================] - 5s 72ms/step - loss: 5.4228e-05 - val_loss: 0.1823\n",
      "Epoch 11/100\n",
      "74/74 [==============================] - 5s 72ms/step - loss: 4.4066e-05 - val_loss: 0.1824\n",
      "Epoch 12/100\n",
      "74/74 [==============================] - 5s 70ms/step - loss: 3.7216e-05 - val_loss: 0.1822\n",
      "Epoch 13/100\n",
      "74/74 [==============================] - 5s 69ms/step - loss: 3.5397e-05 - val_loss: 0.1823\n",
      "Epoch 14/100\n",
      "74/74 [==============================] - 5s 72ms/step - loss: 4.0268e-05 - val_loss: 0.1824\n",
      "Epoch 15/100\n",
      "74/74 [==============================] - 5s 71ms/step - loss: 3.4238e-05 - val_loss: 0.1823\n",
      "Epoch 16/100\n",
      "74/74 [==============================] - 5s 71ms/step - loss: 3.3477e-05 - val_loss: 0.1818\n",
      "Epoch 17/100\n",
      "74/74 [==============================] - 5s 70ms/step - loss: 3.6729e-05 - val_loss: 0.1799\n",
      "Epoch 18/100\n",
      "74/74 [==============================] - 5s 74ms/step - loss: 3.3503e-05 - val_loss: 0.1801\n",
      "Epoch 19/100\n",
      "74/74 [==============================] - 5s 72ms/step - loss: 3.2067e-05 - val_loss: 0.1787\n",
      "Epoch 20/100\n",
      "74/74 [==============================] - 5s 70ms/step - loss: 4.3338e-05 - val_loss: 0.1785\n",
      "Epoch 21/100\n",
      "74/74 [==============================] - 5s 71ms/step - loss: 3.2329e-05 - val_loss: 0.1770\n",
      "Epoch 22/100\n",
      "74/74 [==============================] - 5s 71ms/step - loss: 3.4317e-05 - val_loss: 0.1759\n",
      "Epoch 23/100\n",
      "74/74 [==============================] - 5s 72ms/step - loss: 3.4726e-05 - val_loss: 0.1750\n",
      "Epoch 24/100\n",
      "74/74 [==============================] - 5s 70ms/step - loss: 5.6384e-05 - val_loss: 0.1729\n",
      "Epoch 25/100\n",
      "74/74 [==============================] - 5s 73ms/step - loss: 2.9442e-05 - val_loss: 0.1725\n",
      "Epoch 26/100\n",
      "74/74 [==============================] - 5s 71ms/step - loss: 3.3681e-05 - val_loss: 0.1719\n",
      "Epoch 27/100\n",
      "74/74 [==============================] - 5s 71ms/step - loss: 3.7483e-05 - val_loss: 0.1699\n",
      "Epoch 28/100\n",
      "74/74 [==============================] - 5s 69ms/step - loss: 3.0702e-05 - val_loss: 0.1690\n",
      "Epoch 29/100\n",
      "74/74 [==============================] - 5s 71ms/step - loss: 4.7386e-05 - val_loss: 0.1677\n",
      "Epoch 30/100\n",
      "74/74 [==============================] - 5s 72ms/step - loss: 5.8015e-05 - val_loss: 0.1659\n",
      "Epoch 31/100\n",
      "74/74 [==============================] - 5s 70ms/step - loss: 4.0090e-05 - val_loss: 0.1647\n",
      "Epoch 32/100\n",
      "74/74 [==============================] - 5s 69ms/step - loss: 5.1151e-05 - val_loss: 0.1635\n",
      "Epoch 33/100\n",
      "74/74 [==============================] - 5s 72ms/step - loss: 3.2368e-05 - val_loss: 0.1628\n",
      "Epoch 34/100\n",
      "74/74 [==============================] - 5s 71ms/step - loss: 4.4299e-05 - val_loss: 0.1615\n",
      "Epoch 35/100\n",
      "74/74 [==============================] - 5s 71ms/step - loss: 5.2044e-05 - val_loss: 0.1599\n",
      "Epoch 36/100\n",
      "74/74 [==============================] - 5s 70ms/step - loss: 5.2820e-05 - val_loss: 0.1580\n",
      "Epoch 37/100\n",
      "74/74 [==============================] - 5s 74ms/step - loss: 3.5166e-05 - val_loss: 0.1578\n",
      "Epoch 38/100\n",
      "74/74 [==============================] - 5s 71ms/step - loss: 4.6848e-05 - val_loss: 0.1564\n",
      "Epoch 39/100\n",
      "74/74 [==============================] - 5s 70ms/step - loss: 5.5425e-05 - val_loss: 0.1548\n",
      "Epoch 40/100\n",
      "74/74 [==============================] - 5s 70ms/step - loss: 4.7369e-05 - val_loss: 0.1533\n",
      "Epoch 41/100\n",
      "74/74 [==============================] - 5s 71ms/step - loss: 5.9806e-05 - val_loss: 0.1520\n",
      "Epoch 42/100\n",
      "74/74 [==============================] - 5s 71ms/step - loss: 5.9328e-05 - val_loss: 0.1507\n",
      "Epoch 43/100\n",
      "74/74 [==============================] - 5s 71ms/step - loss: 5.4130e-05 - val_loss: 0.1496\n",
      "Epoch 44/100\n",
      "74/74 [==============================] - 5s 72ms/step - loss: 4.8223e-05 - val_loss: 0.1483\n",
      "Epoch 45/100\n",
      "74/74 [==============================] - 5s 73ms/step - loss: 4.0017e-05 - val_loss: 0.1483\n",
      "Epoch 46/100\n",
      "74/74 [==============================] - 5s 72ms/step - loss: 5.5711e-05 - val_loss: 0.1467\n",
      "Epoch 47/100\n",
      "74/74 [==============================] - 5s 72ms/step - loss: 5.8614e-05 - val_loss: 0.1450\n",
      "Epoch 48/100\n",
      "74/74 [==============================] - 5s 73ms/step - loss: 4.7047e-05 - val_loss: 0.1434\n",
      "Epoch 49/100\n",
      "74/74 [==============================] - 5s 71ms/step - loss: 7.5226e-05 - val_loss: 0.1433\n",
      "Epoch 50/100\n",
      "74/74 [==============================] - 5s 72ms/step - loss: 4.8291e-05 - val_loss: 0.1419\n",
      "Epoch 51/100\n",
      "74/74 [==============================] - 5s 70ms/step - loss: 4.1241e-05 - val_loss: 0.1400\n",
      "Epoch 52/100\n",
      "74/74 [==============================] - 5s 72ms/step - loss: 5.5301e-05 - val_loss: 0.1394\n",
      "Epoch 53/100\n",
      "74/74 [==============================] - 5s 73ms/step - loss: 5.0543e-05 - val_loss: 0.1386\n",
      "Epoch 54/100\n",
      "74/74 [==============================] - 5s 72ms/step - loss: 4.2665e-05 - val_loss: 0.1372\n",
      "Epoch 55/100\n",
      "74/74 [==============================] - 5s 72ms/step - loss: 3.5696e-05 - val_loss: 0.1377\n",
      "Epoch 56/100\n",
      "74/74 [==============================] - 5s 72ms/step - loss: 3.3293e-05 - val_loss: 0.1362\n",
      "Epoch 57/100\n",
      "74/74 [==============================] - 5s 72ms/step - loss: 3.5758e-05 - val_loss: 0.1352\n",
      "Epoch 58/100\n",
      "74/74 [==============================] - 5s 70ms/step - loss: 3.7059e-05 - val_loss: 0.1345\n",
      "Epoch 59/100\n",
      "74/74 [==============================] - 5s 72ms/step - loss: 4.1643e-05 - val_loss: 0.1331\n",
      "Epoch 60/100\n",
      "74/74 [==============================] - 5s 73ms/step - loss: 6.1680e-05 - val_loss: 0.1325\n",
      "Epoch 61/100\n",
      "74/74 [==============================] - 5s 73ms/step - loss: 7.7043e-05 - val_loss: 0.1314\n",
      "Epoch 62/100\n",
      "74/74 [==============================] - 5s 71ms/step - loss: 4.2606e-05 - val_loss: 0.1303\n",
      "Epoch 63/100\n",
      "74/74 [==============================] - 5s 73ms/step - loss: 6.3422e-05 - val_loss: 0.1292\n",
      "Epoch 64/100\n",
      "74/74 [==============================] - 5s 72ms/step - loss: 4.4378e-05 - val_loss: 0.1294\n",
      "Epoch 65/100\n",
      "74/74 [==============================] - 5s 72ms/step - loss: 6.3525e-05 - val_loss: 0.1280\n",
      "Epoch 66/100\n",
      "74/74 [==============================] - 5s 71ms/step - loss: 2.8781e-05 - val_loss: 0.1273\n",
      "Epoch 67/100\n",
      "74/74 [==============================] - 5s 74ms/step - loss: 3.9170e-05 - val_loss: 0.1261\n",
      "Epoch 68/100\n",
      "74/74 [==============================] - 5s 72ms/step - loss: 3.6451e-05 - val_loss: 0.1257\n",
      "Epoch 69/100\n",
      "74/74 [==============================] - 5s 72ms/step - loss: 4.7228e-05 - val_loss: 0.1252\n",
      "Epoch 70/100\n",
      "74/74 [==============================] - 5s 72ms/step - loss: 6.7617e-05 - val_loss: 0.1247\n",
      "Epoch 71/100\n",
      "74/74 [==============================] - 5s 73ms/step - loss: 4.5913e-05 - val_loss: 0.1237\n",
      "Epoch 72/100\n",
      "74/74 [==============================] - 5s 73ms/step - loss: 5.2413e-05 - val_loss: 0.1240\n",
      "Epoch 73/100\n",
      "74/74 [==============================] - 5s 71ms/step - loss: 4.6752e-05 - val_loss: 0.1242\n",
      "Epoch 74/100\n",
      "74/74 [==============================] - 5s 74ms/step - loss: 3.4456e-05 - val_loss: 0.1227\n",
      "Epoch 75/100\n",
      "74/74 [==============================] - 5s 71ms/step - loss: 5.3440e-05 - val_loss: 0.1221\n",
      "Epoch 76/100\n",
      "74/74 [==============================] - 5s 71ms/step - loss: 4.2072e-05 - val_loss: 0.1216\n",
      "Epoch 77/100\n",
      "74/74 [==============================] - 5s 71ms/step - loss: 5.3822e-05 - val_loss: 0.1215\n",
      "Epoch 78/100\n",
      "74/74 [==============================] - 5s 73ms/step - loss: 4.3371e-05 - val_loss: 0.1215\n",
      "Epoch 79/100\n",
      "74/74 [==============================] - 5s 72ms/step - loss: 4.8035e-05 - val_loss: 0.1210\n",
      "Epoch 80/100\n",
      "74/74 [==============================] - 5s 71ms/step - loss: 4.5877e-05 - val_loss: 0.1208\n",
      "Epoch 81/100\n",
      "74/74 [==============================] - 5s 71ms/step - loss: 5.5723e-05 - val_loss: 0.1201\n",
      "Epoch 82/100\n",
      "74/74 [==============================] - 5s 73ms/step - loss: 7.3237e-05 - val_loss: 0.1194\n",
      "Epoch 83/100\n",
      "74/74 [==============================] - 5s 72ms/step - loss: 4.6618e-05 - val_loss: 0.1194\n",
      "Epoch 84/100\n",
      "74/74 [==============================] - 5s 71ms/step - loss: 4.8615e-05 - val_loss: 0.1180\n",
      "Epoch 85/100\n",
      "74/74 [==============================] - 5s 72ms/step - loss: 4.7429e-05 - val_loss: 0.1188\n",
      "Epoch 86/100\n",
      "74/74 [==============================] - 5s 73ms/step - loss: 4.8550e-05 - val_loss: 0.1177\n",
      "Epoch 87/100\n",
      "74/74 [==============================] - 5s 72ms/step - loss: 2.8950e-05 - val_loss: 0.1185\n",
      "Epoch 88/100\n",
      "74/74 [==============================] - 5s 70ms/step - loss: 3.4032e-05 - val_loss: 0.1182\n",
      "Epoch 89/100\n",
      "74/74 [==============================] - 5s 72ms/step - loss: 3.5464e-05 - val_loss: 0.1183\n",
      "Epoch 90/100\n",
      "74/74 [==============================] - 5s 72ms/step - loss: 1.0503e-04 - val_loss: 0.1184\n",
      "Epoch 91/100\n",
      "74/74 [==============================] - 5s 72ms/step - loss: 5.0005e-05 - val_loss: 0.1187\n",
      "Epoch 92/100\n",
      "74/74 [==============================] - 5s 72ms/step - loss: 2.9216e-05 - val_loss: 0.1170\n",
      "Epoch 93/100\n",
      "74/74 [==============================] - 5s 73ms/step - loss: 3.3267e-05 - val_loss: 0.1186\n",
      "Epoch 94/100\n",
      "74/74 [==============================] - 5s 72ms/step - loss: 3.6158e-05 - val_loss: 0.1178\n",
      "Epoch 95/100\n",
      "74/74 [==============================] - 5s 72ms/step - loss: 4.3609e-05 - val_loss: 0.1178\n",
      "Epoch 96/100\n",
      "74/74 [==============================] - 5s 71ms/step - loss: 2.7029e-05 - val_loss: 0.1181\n",
      "Epoch 97/100\n",
      "74/74 [==============================] - 5s 73ms/step - loss: 4.8570e-05 - val_loss: 0.1168\n",
      "Epoch 98/100\n",
      "74/74 [==============================] - 5s 73ms/step - loss: 3.7647e-05 - val_loss: 0.1176\n",
      "Epoch 99/100\n",
      "74/74 [==============================] - 5s 71ms/step - loss: 2.9669e-05 - val_loss: 0.1185\n",
      "Epoch 100/100\n",
      "74/74 [==============================] - 5s 72ms/step - loss: 4.3517e-05 - val_loss: 0.1182\n"
     ]
    }
   ],
   "source": [
    "history = rnn_model.fit(X_train,y_train,validation_data=(X_test,y_test),epochs=100,batch_size=64,verbose=1)"
   ]
  },
  {
   "cell_type": "code",
   "execution_count": 30,
   "metadata": {
    "colab": {
     "base_uri": "https://localhost:8080/",
     "height": 295
    },
    "id": "IyftVFonFrac",
    "outputId": "cff699ea-071a-4c36-944f-148c2e1ec389"
   },
   "outputs": [
    {
     "data": {
      "image/png": "[encoded data removed]",
      "text/plain": [
       "<Figure size 432x288 with 1 Axes>"
      ]
     },
     "metadata": {
      "needs_background": "light"
     },
     "output_type": "display_data"
    }
   ],
   "source": [
    "plt.plot(history.history['loss'])\n",
    "plt.plot(history.history['val_loss'])\n",
    "plt.title('model loss')\n",
    "plt.ylabel('loss')\n",
    "plt.xlabel('epoch')\n",
    "plt.legend(['train', 'test'], loc='upper left')\n",
    "plt.show()"
   ]
  },
  {
   "cell_type": "code",
   "execution_count": 32,
   "metadata": {
    "id": "4OprSZi6PfLb"
   },
   "outputs": [],
   "source": [
    "train_predict = rnn_model.predict(X_train)\n",
    "test_predict = rnn_model.predict(X_test)"
   ]
  },
  {
   "cell_type": "code",
   "execution_count": 33,
   "metadata": {
    "id": "8AArvCzOPfyx"
   },
   "outputs": [],
   "source": [
    "train_predict = scaler.inverse_transform(train_predict)\n",
    "test_predict = scaler.inverse_transform(test_predict)"
   ]
  },
  {
   "cell_type": "code",
   "execution_count": 34,
   "metadata": {
    "colab": {
     "base_uri": "https://localhost:8080/"
    },
    "id": "eGRpzbECPnqy",
    "outputId": "aa564074-babd-4a7d-ec89-7424d92facdf"
   },
   "outputs": [
    {
     "data": {
      "text/plain": [
       "214.39814139661425"
      ]
     },
     "execution_count": 34,
     "metadata": {},
     "output_type": "execute_result"
    }
   ],
   "source": [
    "import math\n",
    "from sklearn.metrics import mean_squared_error\n",
    "math.sqrt(mean_squared_error(y_train,train_predict))"
   ]
  },
  {
   "cell_type": "code",
   "execution_count": 35,
   "metadata": {
    "colab": {
     "base_uri": "https://localhost:8080/"
    },
    "id": "KpGTjoC-PqV3",
    "outputId": "01835565-255f-46cd-ae32-aae1e44d38a4"
   },
   "outputs": [
    {
     "data": {
      "text/plain": [
       "243.79853923122775"
      ]
     },
     "execution_count": 35,
     "metadata": {},
     "output_type": "execute_result"
    }
   ],
   "source": [
    "math.sqrt(mean_squared_error(y_test,test_predict))"
   ]
  },
  {
   "cell_type": "code",
   "execution_count": 36,
   "metadata": {
    "colab": {
     "base_uri": "https://localhost:8080/",
     "height": 265
    },
    "id": "Sp8bMetTPsZi",
    "outputId": "71103347-0f6e-4245-f195-a2b5abeb6fdd"
   },
   "outputs": [
    {
     "data": {
      "image/png": "[encoded data removed]",
      "text/plain": [
       "<Figure size 432x288 with 1 Axes>"
      ]
     },
     "metadata": {
      "needs_background": "light"
     },
     "output_type": "display_data"
    }
   ],
   "source": [
    "look_back=100\n",
    "trainPredictPlot = np.empty_like(df3)\n",
    "trainPredictPlot[:, :] = np.nan\n",
    "trainPredictPlot[look_back:len(train_predict)+look_back, :] = train_predict\n",
    "testPredictPlot = np.empty_like(df3)\n",
    "testPredictPlot[:, :] = np.nan\n",
    "testPredictPlot[len(train_predict)+(look_back*2)+1:len(df1)-1, :] = test_predict\n",
    "plt.plot(scaler.inverse_transform(df3))\n",
    "plt.plot(trainPredictPlot)\n",
    "plt.plot(testPredictPlot)\n",
    "plt.show()"
   ]
  },
  {
   "cell_type": "code",
   "execution_count": null,
   "metadata": {
    "id": "2qlw3y3CPvTp"
   },
   "outputs": [],
   "source": []
  }
 ],
 "metadata": {
  "colab": {
   "name": "rnn_model.ipynb",
   "provenance": []
  },
  "kernelspec": {
   "display_name": "Python 3",
   "language": "python",
   "name": "python3"
  },
  "language_info": {
   "codemirror_mode": {
    "name": "ipython",
    "version": 3
   },
   "file_extension": ".py",
   "mimetype": "text/x-python",
   "name": "python",
   "nbconvert_exporter": "python",
   "pygments_lexer": "ipython3",
   "version": "3.8.10"
  }
 },
 "nbformat": 4,
 "nbformat_minor": 1
}
