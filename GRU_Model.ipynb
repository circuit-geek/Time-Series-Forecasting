{
 "cells": [
  {
   "cell_type": "code",
   "execution_count": 29,
   "metadata": {
    "id": "PbwIGm3CUgfS"
   },
   "outputs": [],
   "source": [
    "import numpy as np\n",
    "import pandas as pd\n",
    "import matplotlib.pyplot as plt\n",
    "import seaborn as sns\n",
    "from tensorflow.keras.models import Sequential\n",
    "from tensorflow.keras.layers import LSTM\n",
    "from tensorflow.keras.layers import Dense, Dropout\n",
    "from tensorflow.keras.layers import Conv1D, Bidirectional, TimeDistributed\n",
    "from tensorflow.keras.layers import MaxPooling1D, Flatten\n",
    "from tensorflow.keras.regularizers import L1, L2\n",
    "from tensorflow.keras.metrics import Accuracy\n",
    "from tensorflow.keras.metrics import RootMeanSquaredError\n",
    "from sklearn.preprocessing import StandardScaler, MinMaxScaler\n",
    "from tensorflow.keras.layers import SimpleRNN, GRU\n",
    "from tensorflow.keras.optimizers import SGD"
   ]
  },
  {
   "cell_type": "code",
   "execution_count": 30,
   "metadata": {
    "colab": {
     "base_uri": "https://localhost:8080/"
    },
    "id": "OAuOVcu_Ul_G",
    "outputId": "d8e227c0-4236-451b-a9cc-135487b5084a"
   },
   "outputs": [
    {
     "name": "stdout",
     "output_type": "stream",
     "text": [
      "Drive already mounted at /content/gdrive; to attempt to forcibly remount, call drive.mount(\"/content/gdrive\", force_remount=True).\n"
     ]
    }
   ],
   "source": [
    "from google.colab import drive\n",
    "drive.mount('/content/gdrive')"
   ]
  },
  {
   "cell_type": "code",
   "execution_count": 31,
   "metadata": {
    "id": "q-0uySI9UsKF"
   },
   "outputs": [],
   "source": [
    "data = pd.read_csv('/content/gdrive/MyDrive/prices-split-adjusted.csv')"
   ]
  },
  {
   "cell_type": "code",
   "execution_count": 32,
   "metadata": {
    "id": "yM5nDFh4VEhc"
   },
   "outputs": [],
   "source": [
    "data['date'] = pd.to_datetime(data['date'])"
   ]
  },
  {
   "cell_type": "code",
   "execution_count": 33,
   "metadata": {
    "colab": {
     "base_uri": "https://localhost:8080/"
    },
    "id": "9BC9PTstD0SO",
    "outputId": "c9351876-1477-42b3-b9f3-c99cff81d66a"
   },
   "outputs": [
    {
     "name": "stdout",
     "output_type": "stream",
     "text": [
      "<class 'pandas.core.frame.DataFrame'>\n",
      "RangeIndex: 851264 entries, 0 to 851263\n",
      "Data columns (total 7 columns):\n",
      " #   Column  Non-Null Count   Dtype         \n",
      "---  ------  --------------   -----         \n",
      " 0   date    851264 non-null  datetime64[ns]\n",
      " 1   symbol  851264 non-null  object        \n",
      " 2   open    851264 non-null  float64       \n",
      " 3   close   851264 non-null  float64       \n",
      " 4   low     851264 non-null  float64       \n",
      " 5   high    851264 non-null  float64       \n",
      " 6   volume  851264 non-null  float64       \n",
      "dtypes: datetime64[ns](1), float64(5), object(1)\n",
      "memory usage: 45.5+ MB\n"
     ]
    }
   ],
   "source": [
    "data.info()"
   ]
  },
  {
   "cell_type": "code",
   "execution_count": 34,
   "metadata": {
    "id": "bXob585AD2-N"
   },
   "outputs": [],
   "source": [
    "specific_rows = ['GOOGL',\n",
    "                'NVDA',\n",
    "                'IBM',\n",
    "                'PYPL',\n",
    "                'UPS']"
   ]
  },
  {
   "cell_type": "code",
   "execution_count": 35,
   "metadata": {
    "colab": {
     "base_uri": "https://localhost:8080/"
    },
    "id": "Of_8xjDuD8r1",
    "outputId": "97a39ce6-533a-4236-c7ae-5ff23ae2feb5"
   },
   "outputs": [
    {
     "name": "stderr",
     "output_type": "stream",
     "text": [
      "/usr/local/lib/python3.7/dist-packages/ipykernel_launcher.py:3: SettingWithCopyWarning: \n",
      "A value is trying to be set on a copy of a slice from a DataFrame.\n",
      "Try using .loc[row_indexer,col_indexer] = value instead\n",
      "\n",
      "See the caveats in the documentation: https://pandas.pydata.org/pandas-docs/stable/user_guide/indexing.html#returning-a-view-versus-a-copy\n",
      "  This is separate from the ipykernel package so we can avoid doing imports until\n"
     ]
    }
   ],
   "source": [
    "df1 = data[data['symbol'].isin(specific_rows)]\n",
    "df1.reset_index(drop=True, inplace=True)\n",
    "df1['month'] = pd.DatetimeIndex(df1.date).month"
   ]
  },
  {
   "cell_type": "code",
   "execution_count": 36,
   "metadata": {
    "colab": {
     "base_uri": "https://localhost:8080/",
     "height": 424
    },
    "id": "sCVdTPysD-dN",
    "outputId": "b435ac58-7946-4826-ee86-4bdc3f567bae"
   },
   "outputs": [
    {
     "data": {
      "text/html": [
       "\n",
       "  <div id=\"df-a66e0fc0-ff51-4924-b66e-27c7189815a0\">\n",
       "    <div class=\"colab-df-container\">\n",
       "      <div>\n",
       "<style scoped>\n",
       "    .dataframe tbody tr th:only-of-type {\n",
       "        vertical-align: middle;\n",
       "    }\n",
       "\n",
       "    .dataframe tbody tr th {\n",
       "        vertical-align: top;\n",
       "    }\n",
       "\n",
       "    .dataframe thead th {\n",
       "        text-align: right;\n",
       "    }\n",
       "</style>\n",
       "<table border=\"1\" class=\"dataframe\">\n",
       "  <thead>\n",
       "    <tr style=\"text-align: right;\">\n",
       "      <th></th>\n",
       "      <th>date</th>\n",
       "      <th>symbol</th>\n",
       "      <th>open</th>\n",
       "      <th>close</th>\n",
       "      <th>low</th>\n",
       "      <th>high</th>\n",
       "      <th>volume</th>\n",
       "      <th>month</th>\n",
       "    </tr>\n",
       "  </thead>\n",
       "  <tbody>\n",
       "    <tr>\n",
       "      <th>0</th>\n",
       "      <td>2010-01-04</td>\n",
       "      <td>GOOGL</td>\n",
       "      <td>313.788792</td>\n",
       "      <td>313.688694</td>\n",
       "      <td>312.432438</td>\n",
       "      <td>315.070073</td>\n",
       "      <td>3908400.0</td>\n",
       "      <td>1</td>\n",
       "    </tr>\n",
       "    <tr>\n",
       "      <th>1</th>\n",
       "      <td>2010-01-04</td>\n",
       "      <td>IBM</td>\n",
       "      <td>131.179993</td>\n",
       "      <td>132.449997</td>\n",
       "      <td>130.850006</td>\n",
       "      <td>132.970001</td>\n",
       "      <td>6155300.0</td>\n",
       "      <td>1</td>\n",
       "    </tr>\n",
       "    <tr>\n",
       "      <th>2</th>\n",
       "      <td>2010-01-04</td>\n",
       "      <td>NVDA</td>\n",
       "      <td>18.510000</td>\n",
       "      <td>18.490000</td>\n",
       "      <td>18.110001</td>\n",
       "      <td>18.620001</td>\n",
       "      <td>20005100.0</td>\n",
       "      <td>1</td>\n",
       "    </tr>\n",
       "    <tr>\n",
       "      <th>3</th>\n",
       "      <td>2010-01-04</td>\n",
       "      <td>UPS</td>\n",
       "      <td>58.180000</td>\n",
       "      <td>58.180000</td>\n",
       "      <td>57.980000</td>\n",
       "      <td>58.820000</td>\n",
       "      <td>3897200.0</td>\n",
       "      <td>1</td>\n",
       "    </tr>\n",
       "    <tr>\n",
       "      <th>4</th>\n",
       "      <td>2010-01-05</td>\n",
       "      <td>GOOGL</td>\n",
       "      <td>313.903904</td>\n",
       "      <td>312.307316</td>\n",
       "      <td>311.081089</td>\n",
       "      <td>314.234226</td>\n",
       "      <td>6003300.0</td>\n",
       "      <td>1</td>\n",
       "    </tr>\n",
       "    <tr>\n",
       "      <th>...</th>\n",
       "      <td>...</td>\n",
       "      <td>...</td>\n",
       "      <td>...</td>\n",
       "      <td>...</td>\n",
       "      <td>...</td>\n",
       "      <td>...</td>\n",
       "      <td>...</td>\n",
       "      <td>...</td>\n",
       "    </tr>\n",
       "    <tr>\n",
       "      <th>7421</th>\n",
       "      <td>2016-12-30</td>\n",
       "      <td>GOOGL</td>\n",
       "      <td>803.210022</td>\n",
       "      <td>792.450012</td>\n",
       "      <td>789.619995</td>\n",
       "      <td>803.289978</td>\n",
       "      <td>1728300.0</td>\n",
       "      <td>12</td>\n",
       "    </tr>\n",
       "    <tr>\n",
       "      <th>7422</th>\n",
       "      <td>2016-12-30</td>\n",
       "      <td>IBM</td>\n",
       "      <td>166.440002</td>\n",
       "      <td>165.990005</td>\n",
       "      <td>165.500000</td>\n",
       "      <td>166.699997</td>\n",
       "      <td>2952800.0</td>\n",
       "      <td>12</td>\n",
       "    </tr>\n",
       "    <tr>\n",
       "      <th>7423</th>\n",
       "      <td>2016-12-30</td>\n",
       "      <td>NVDA</td>\n",
       "      <td>111.349998</td>\n",
       "      <td>106.739998</td>\n",
       "      <td>106.300003</td>\n",
       "      <td>111.919998</td>\n",
       "      <td>30246000.0</td>\n",
       "      <td>12</td>\n",
       "    </tr>\n",
       "    <tr>\n",
       "      <th>7424</th>\n",
       "      <td>2016-12-30</td>\n",
       "      <td>PYPL</td>\n",
       "      <td>39.959999</td>\n",
       "      <td>39.470001</td>\n",
       "      <td>39.340000</td>\n",
       "      <td>40.070000</td>\n",
       "      <td>5007500.0</td>\n",
       "      <td>12</td>\n",
       "    </tr>\n",
       "    <tr>\n",
       "      <th>7425</th>\n",
       "      <td>2016-12-30</td>\n",
       "      <td>UPS</td>\n",
       "      <td>115.239998</td>\n",
       "      <td>114.639999</td>\n",
       "      <td>114.360001</td>\n",
       "      <td>115.430000</td>\n",
       "      <td>1718200.0</td>\n",
       "      <td>12</td>\n",
       "    </tr>\n",
       "  </tbody>\n",
       "</table>\n",
       "<p>7426 rows × 8 columns</p>\n",
       "</div>\n",
       "      <button class=\"colab-df-convert\" onclick=\"convertToInteractive('df-a66e0fc0-ff51-4924-b66e-27c7189815a0')\"\n",
       "              title=\"Convert this dataframe to an interactive table.\"\n",
       "              style=\"display:none;\">\n",
       "        \n",
       "  <svg xmlns=\"http://www.w3.org/2000/svg\" height=\"24px\"viewBox=\"0 0 24 24\"\n",
       "       width=\"24px\">\n",
       "    <path d=\"M0 0h24v24H0V0z\" fill=\"none\"/>\n",
       "    <path d=\"M18.56 5.44l.94 2.06.94-2.06 2.06-.94-2.06-.94-.94-2.06-.94 2.06-2.06.94zm-11 1L8.5 8.5l.94-2.06 2.06-.94-2.06-.94L8.5 2.5l-.94 2.06-2.06.94zm10 10l.94 2.06.94-2.06 2.06-.94-2.06-.94-.94-2.06-.94 2.06-2.06.94z\"/><path d=\"M17.41 7.96l-1.37-1.37c-.4-.4-.92-.59-1.43-.59-.52 0-1.04.2-1.43.59L10.3 9.45l-7.72 7.72c-.78.78-.78 2.05 0 2.83L4 21.41c.39.39.9.59 1.41.59.51 0 1.02-.2 1.41-.59l7.78-7.78 2.81-2.81c.8-.78.8-2.07 0-2.86zM5.41 20L4 18.59l7.72-7.72 1.47 1.35L5.41 20z\"/>\n",
       "  </svg>\n",
       "      </button>\n",
       "      \n",
       "  <style>\n",
       "    .colab-df-container {\n",
       "      display:flex;\n",
       "      flex-wrap:wrap;\n",
       "      gap: 12px;\n",
       "    }\n",
       "\n",
       "    .colab-df-convert {\n",
       "      background-color: #E8F0FE;\n",
       "      border: none;\n",
       "      border-radius: 50%;\n",
       "      cursor: pointer;\n",
       "      display: none;\n",
       "      fill: #1967D2;\n",
       "      height: 32px;\n",
       "      padding: 0 0 0 0;\n",
       "      width: 32px;\n",
       "    }\n",
       "\n",
       "    .colab-df-convert:hover {\n",
       "      background-color: #E2EBFA;\n",
       "      box-shadow: 0px 1px 2px rgba(60, 64, 67, 0.3), 0px 1px 3px 1px rgba(60, 64, 67, 0.15);\n",
       "      fill: #174EA6;\n",
       "    }\n",
       "\n",
       "    [theme=dark] .colab-df-convert {\n",
       "      background-color: #3B4455;\n",
       "      fill: #D2E3FC;\n",
       "    }\n",
       "\n",
       "    [theme=dark] .colab-df-convert:hover {\n",
       "      background-color: #434B5C;\n",
       "      box-shadow: 0px 1px 3px 1px rgba(0, 0, 0, 0.15);\n",
       "      filter: drop-shadow(0px 1px 2px rgba(0, 0, 0, 0.3));\n",
       "      fill: #FFFFFF;\n",
       "    }\n",
       "  </style>\n",
       "\n",
       "      <script>\n",
       "        const buttonEl =\n",
       "          document.querySelector('#df-a66e0fc0-ff51-4924-b66e-27c7189815a0 button.colab-df-convert');\n",
       "        buttonEl.style.display =\n",
       "          google.colab.kernel.accessAllowed ? 'block' : 'none';\n",
       "\n",
       "        async function convertToInteractive(key) {\n",
       "          const element = document.querySelector('#df-a66e0fc0-ff51-4924-b66e-27c7189815a0');\n",
       "          const dataTable =\n",
       "            await google.colab.kernel.invokeFunction('convertToInteractive',\n",
       "                                                     [key], {});\n",
       "          if (!dataTable) return;\n",
       "\n",
       "          const docLinkHtml = 'Like what you see? Visit the ' +\n",
       "            '<a target=\"_blank\" href=https://colab.research.google.com/notebooks/data_table.ipynb>data table notebook</a>'\n",
       "            + ' to learn more about interactive tables.';\n",
       "          element.innerHTML = '';\n",
       "          dataTable['output_type'] = 'display_data';\n",
       "          await google.colab.output.renderOutput(dataTable, element);\n",
       "          const docLink = document.createElement('div');\n",
       "          docLink.innerHTML = docLinkHtml;\n",
       "          element.appendChild(docLink);\n",
       "        }\n",
       "      </script>\n",
       "    </div>\n",
       "  </div>\n",
       "  "
      ],
      "text/plain": [
       "           date symbol        open       close         low        high  \\\n",
       "0    2010-01-04  GOOGL  313.788792  313.688694  312.432438  315.070073   \n",
       "1    2010-01-04    IBM  131.179993  132.449997  130.850006  132.970001   \n",
       "2    2010-01-04   NVDA   18.510000   18.490000   18.110001   18.620001   \n",
       "3    2010-01-04    UPS   58.180000   58.180000   57.980000   58.820000   \n",
       "4    2010-01-05  GOOGL  313.903904  312.307316  311.081089  314.234226   \n",
       "...         ...    ...         ...         ...         ...         ...   \n",
       "7421 2016-12-30  GOOGL  803.210022  792.450012  789.619995  803.289978   \n",
       "7422 2016-12-30    IBM  166.440002  165.990005  165.500000  166.699997   \n",
       "7423 2016-12-30   NVDA  111.349998  106.739998  106.300003  111.919998   \n",
       "7424 2016-12-30   PYPL   39.959999   39.470001   39.340000   40.070000   \n",
       "7425 2016-12-30    UPS  115.239998  114.639999  114.360001  115.430000   \n",
       "\n",
       "          volume  month  \n",
       "0      3908400.0      1  \n",
       "1      6155300.0      1  \n",
       "2     20005100.0      1  \n",
       "3      3897200.0      1  \n",
       "4      6003300.0      1  \n",
       "...          ...    ...  \n",
       "7421   1728300.0     12  \n",
       "7422   2952800.0     12  \n",
       "7423  30246000.0     12  \n",
       "7424   5007500.0     12  \n",
       "7425   1718200.0     12  \n",
       "\n",
       "[7426 rows x 8 columns]"
      ]
     },
     "execution_count": 36,
     "metadata": {},
     "output_type": "execute_result"
    }
   ],
   "source": [
    "df1"
   ]
  },
  {
   "cell_type": "code",
   "execution_count": 37,
   "metadata": {
    "id": "jApQBJXiEApl"
   },
   "outputs": [],
   "source": [
    "df2 = df1.reset_index()['close']"
   ]
  },
  {
   "cell_type": "code",
   "execution_count": 38,
   "metadata": {
    "colab": {
     "base_uri": "https://localhost:8080/"
    },
    "id": "VOqpcCQwEJXq",
    "outputId": "6ac57ef2-7317-4368-be3f-dd69748a3850"
   },
   "outputs": [
    {
     "data": {
      "text/plain": [
       "(7426,)"
      ]
     },
     "execution_count": 38,
     "metadata": {},
     "output_type": "execute_result"
    }
   ],
   "source": [
    "df2.shape"
   ]
  },
  {
   "cell_type": "code",
   "execution_count": 39,
   "metadata": {
    "colab": {
     "base_uri": "https://localhost:8080/"
    },
    "id": "32hrcAw4EMD8",
    "outputId": "dac8127f-d3c0-4078-baba-327666c43409"
   },
   "outputs": [
    {
     "data": {
      "text/plain": [
       "0       313.688694\n",
       "1       132.449997\n",
       "2        18.490000\n",
       "3        58.180000\n",
       "4       312.307316\n",
       "           ...    \n",
       "7421    792.450012\n",
       "7422    165.990005\n",
       "7423    106.739998\n",
       "7424     39.470001\n",
       "7425    114.639999\n",
       "Name: close, Length: 7426, dtype: float64"
      ]
     },
     "execution_count": 39,
     "metadata": {},
     "output_type": "execute_result"
    }
   ],
   "source": [
    "df2"
   ]
  },
  {
   "cell_type": "code",
   "execution_count": 40,
   "metadata": {
    "id": "zYeQBneIEQMv"
   },
   "outputs": [],
   "source": [
    "scaler = MinMaxScaler(feature_range=(0,1))\n",
    "df2 = scaler.fit_transform(np.array(df2).reshape(-1,1))"
   ]
  },
  {
   "cell_type": "code",
   "execution_count": 41,
   "metadata": {
    "colab": {
     "base_uri": "https://localhost:8080/"
    },
    "id": "XRchpDbREUZt",
    "outputId": "daa2aae8-a9a7-405d-8bd2-279d31425225"
   },
   "outputs": [
    {
     "data": {
      "text/plain": [
       "array([[0.36863399],\n",
       "       [0.14944489],\n",
       "       [0.01162228],\n",
       "       ...,\n",
       "       [0.11835135],\n",
       "       [0.03699538],\n",
       "       [0.12790557]])"
      ]
     },
     "execution_count": 41,
     "metadata": {},
     "output_type": "execute_result"
    }
   ],
   "source": [
    "df2"
   ]
  },
  {
   "cell_type": "code",
   "execution_count": 42,
   "metadata": {
    "id": "0PuZqSGiEXIV"
   },
   "outputs": [],
   "source": [
    "training_size = int(len(df2)*0.65)\n",
    "test_size = len(df2)-training_size\n",
    "train_data,test_data = df2[0:training_size,:], df2[training_size:len(df2),:1]"
   ]
  },
  {
   "cell_type": "code",
   "execution_count": 43,
   "metadata": {
    "colab": {
     "base_uri": "https://localhost:8080/"
    },
    "id": "p-K39oDeEdME",
    "outputId": "3df518f7-9f18-4ad7-8327-cd2bcc2a17f8"
   },
   "outputs": [
    {
     "data": {
      "text/plain": [
       "(4826, 2600)"
      ]
     },
     "execution_count": 43,
     "metadata": {},
     "output_type": "execute_result"
    }
   ],
   "source": [
    "training_size, test_size"
   ]
  },
  {
   "cell_type": "code",
   "execution_count": 44,
   "metadata": {
    "id": "He4GDDXVEfeM"
   },
   "outputs": [],
   "source": [
    "def create_dataset(dataset, time_step=1):\n",
    "    dataX, dataY = [], []\n",
    "    for i in range(len(dataset)-time_step-1):\n",
    "        a = dataset[i:(i+time_step), 0]   \n",
    "        dataX.append(a)\n",
    "        dataY.append(dataset[i + time_step, 0])\n",
    "    return np.array(dataX), np.array(dataY)"
   ]
  },
  {
   "cell_type": "code",
   "execution_count": 45,
   "metadata": {
    "id": "xRvetdJpEjH0"
   },
   "outputs": [],
   "source": [
    "time_step = 100\n",
    "X_train, y_train = create_dataset(train_data, time_step)\n",
    "X_test, y_test = create_dataset(test_data, time_step)"
   ]
  },
  {
   "cell_type": "code",
   "execution_count": 46,
   "metadata": {
    "id": "X4k7CYN_ElWs"
   },
   "outputs": [],
   "source": [
    "X_train = X_train.reshape(X_train.shape[0],X_train.shape[1] , 1)\n",
    "X_test = X_test.reshape(X_test.shape[0],X_test.shape[1] , 1)"
   ]
  },
  {
   "cell_type": "code",
   "execution_count": 47,
   "metadata": {
    "colab": {
     "base_uri": "https://localhost:8080/"
    },
    "id": "0mKJseozEoiU",
    "outputId": "58d0ffb7-b9f9-40c0-f268-2b22187ae8e9"
   },
   "outputs": [
    {
     "name": "stdout",
     "output_type": "stream",
     "text": [
      "(4725, 100, 1)\n",
      "(4725,)\n"
     ]
    },
    {
     "data": {
      "text/plain": [
       "(None, None)"
      ]
     },
     "execution_count": 47,
     "metadata": {},
     "output_type": "execute_result"
    }
   ],
   "source": [
    "print(X_train.shape), print(y_train.shape)"
   ]
  },
  {
   "cell_type": "code",
   "execution_count": 48,
   "metadata": {
    "id": "9ch0wbRMEsKt"
   },
   "outputs": [],
   "source": [
    "GRU_model = Sequential()\n",
    "GRU_model.add(GRU(units=50, return_sequences=True, input_shape=(X_train.shape[1],1), activation='tanh'))\n",
    "GRU_model.add(GRU(units=50, return_sequences=True, input_shape=(X_train.shape[1],1), activation='tanh'))\n",
    "GRU_model.add(GRU(units=50, activation='tanh'))\n",
    "GRU_model.add(Dense(1))\n",
    "\n",
    "GRU_model.compile(optimizer='adam' ,loss='mean_squared_error')"
   ]
  },
  {
   "cell_type": "code",
   "execution_count": 49,
   "metadata": {
    "colab": {
     "base_uri": "https://localhost:8080/"
    },
    "id": "c_zTHhszFovl",
    "outputId": "715de8c9-9ab5-4942-91e2-c68f53695097"
   },
   "outputs": [
    {
     "name": "stdout",
     "output_type": "stream",
     "text": [
      "Model: \"sequential_2\"\n",
      "_________________________________________________________________\n",
      " Layer (type)                Output Shape              Param #   \n",
      "=================================================================\n",
      " gru_6 (GRU)                 (None, 100, 50)           7950      \n",
      "                                                                 \n",
      " gru_7 (GRU)                 (None, 100, 50)           15300     \n",
      "                                                                 \n",
      " gru_8 (GRU)                 (None, 50)                15300     \n",
      "                                                                 \n",
      " dense_2 (Dense)             (None, 1)                 51        \n",
      "                                                                 \n",
      "=================================================================\n",
      "Total params: 38,601\n",
      "Trainable params: 38,601\n",
      "Non-trainable params: 0\n",
      "_________________________________________________________________\n"
     ]
    }
   ],
   "source": [
    "GRU_model.summary()"
   ]
  },
  {
   "cell_type": "code",
   "execution_count": 28,
   "metadata": {
    "colab": {
     "base_uri": "https://localhost:8080/"
    },
    "id": "ppZS9RBjF_nN",
    "outputId": "a9208f5e-0a11-431e-bc03-d0ef95f3a4b7"
   },
   "outputs": [
    {
     "name": "stdout",
     "output_type": "stream",
     "text": [
      "Epoch 1/100\n",
      "74/74 [==============================] - 24s 229ms/step - loss: 0.0304 - val_loss: 0.0653\n",
      "Epoch 2/100\n",
      "74/74 [==============================] - 16s 211ms/step - loss: 0.0046 - val_loss: 0.0764\n",
      "Epoch 3/100\n",
      "74/74 [==============================] - 16s 212ms/step - loss: 9.9683e-04 - val_loss: 0.0650\n",
      "Epoch 4/100\n",
      "74/74 [==============================] - 16s 212ms/step - loss: 6.9492e-04 - val_loss: 0.0650\n",
      "Epoch 5/100\n",
      "74/74 [==============================] - 16s 216ms/step - loss: 4.5424e-04 - val_loss: 0.0617\n",
      "Epoch 6/100\n",
      "74/74 [==============================] - 17s 224ms/step - loss: 2.5206e-04 - val_loss: 0.0545\n",
      "Epoch 7/100\n",
      "74/74 [==============================] - 16s 214ms/step - loss: 1.3285e-04 - val_loss: 0.0531\n",
      "Epoch 8/100\n",
      "74/74 [==============================] - 15s 207ms/step - loss: 9.0306e-05 - val_loss: 0.0541\n",
      "Epoch 9/100\n",
      "74/74 [==============================] - 16s 211ms/step - loss: 8.4783e-05 - val_loss: 0.0545\n",
      "Epoch 10/100\n",
      "74/74 [==============================] - 15s 209ms/step - loss: 8.6384e-05 - val_loss: 0.0553\n",
      "Epoch 11/100\n",
      "74/74 [==============================] - 15s 208ms/step - loss: 7.7187e-05 - val_loss: 0.0592\n",
      "Epoch 12/100\n",
      "74/74 [==============================] - 16s 210ms/step - loss: 7.0774e-05 - val_loss: 0.0604\n",
      "Epoch 13/100\n",
      "74/74 [==============================] - 16s 218ms/step - loss: 7.1240e-05 - val_loss: 0.0609\n",
      "Epoch 14/100\n",
      "74/74 [==============================] - 16s 217ms/step - loss: 6.9163e-05 - val_loss: 0.0623\n",
      "Epoch 15/100\n",
      "74/74 [==============================] - 16s 219ms/step - loss: 6.6895e-05 - val_loss: 0.0664\n",
      "Epoch 16/100\n",
      "74/74 [==============================] - 16s 217ms/step - loss: 6.4684e-05 - val_loss: 0.0673\n",
      "Epoch 17/100\n",
      "74/74 [==============================] - 16s 216ms/step - loss: 6.1952e-05 - val_loss: 0.0681\n",
      "Epoch 18/100\n",
      "74/74 [==============================] - 16s 217ms/step - loss: 6.0789e-05 - val_loss: 0.0692\n",
      "Epoch 19/100\n",
      "74/74 [==============================] - 16s 222ms/step - loss: 6.1574e-05 - val_loss: 0.0694\n",
      "Epoch 20/100\n",
      "74/74 [==============================] - 16s 216ms/step - loss: 6.6365e-05 - val_loss: 0.0688\n",
      "Epoch 21/100\n",
      "74/74 [==============================] - 16s 214ms/step - loss: 5.9925e-05 - val_loss: 0.0727\n",
      "Epoch 22/100\n",
      "74/74 [==============================] - 16s 216ms/step - loss: 5.9155e-05 - val_loss: 0.0708\n",
      "Epoch 23/100\n",
      "74/74 [==============================] - 16s 214ms/step - loss: 6.1419e-05 - val_loss: 0.0716\n",
      "Epoch 24/100\n",
      "74/74 [==============================] - 16s 216ms/step - loss: 5.8964e-05 - val_loss: 0.0737\n",
      "Epoch 25/100\n",
      "74/74 [==============================] - 16s 218ms/step - loss: 5.6671e-05 - val_loss: 0.0735\n",
      "Epoch 26/100\n",
      "74/74 [==============================] - 16s 216ms/step - loss: 5.3289e-05 - val_loss: 0.0752\n",
      "Epoch 27/100\n",
      "74/74 [==============================] - 16s 213ms/step - loss: 5.1505e-05 - val_loss: 0.0784\n",
      "Epoch 28/100\n",
      "74/74 [==============================] - 16s 217ms/step - loss: 5.6893e-05 - val_loss: 0.0807\n",
      "Epoch 29/100\n",
      "74/74 [==============================] - 16s 217ms/step - loss: 5.8785e-05 - val_loss: 0.0780\n",
      "Epoch 30/100\n",
      "74/74 [==============================] - 16s 216ms/step - loss: 5.3822e-05 - val_loss: 0.0821\n",
      "Epoch 31/100\n",
      "74/74 [==============================] - 16s 217ms/step - loss: 5.3266e-05 - val_loss: 0.0795\n",
      "Epoch 32/100\n",
      "74/74 [==============================] - 16s 218ms/step - loss: 5.2145e-05 - val_loss: 0.0816\n",
      "Epoch 33/100\n",
      "74/74 [==============================] - 16s 217ms/step - loss: 5.2638e-05 - val_loss: 0.0821\n",
      "Epoch 34/100\n",
      "74/74 [==============================] - 16s 217ms/step - loss: 5.6149e-05 - val_loss: 0.0820\n",
      "Epoch 35/100\n",
      "74/74 [==============================] - 16s 215ms/step - loss: 5.7263e-05 - val_loss: 0.0840\n",
      "Epoch 36/100\n",
      "74/74 [==============================] - 16s 212ms/step - loss: 6.4505e-05 - val_loss: 0.0767\n",
      "Epoch 37/100\n",
      "74/74 [==============================] - 16s 215ms/step - loss: 5.6178e-05 - val_loss: 0.0828\n",
      "Epoch 38/100\n",
      "74/74 [==============================] - 16s 213ms/step - loss: 5.1688e-05 - val_loss: 0.0816\n",
      "Epoch 39/100\n",
      "74/74 [==============================] - 16s 217ms/step - loss: 5.0233e-05 - val_loss: 0.0800\n",
      "Epoch 40/100\n",
      "74/74 [==============================] - 16s 214ms/step - loss: 5.1820e-05 - val_loss: 0.0897\n",
      "Epoch 41/100\n",
      "74/74 [==============================] - 16s 217ms/step - loss: 6.0584e-05 - val_loss: 0.0821\n",
      "Epoch 42/100\n",
      "74/74 [==============================] - 16s 218ms/step - loss: 5.4298e-05 - val_loss: 0.0843\n",
      "Epoch 43/100\n",
      "74/74 [==============================] - 16s 216ms/step - loss: 4.9262e-05 - val_loss: 0.0835\n",
      "Epoch 44/100\n",
      "74/74 [==============================] - 16s 213ms/step - loss: 5.0328e-05 - val_loss: 0.0844\n",
      "Epoch 45/100\n",
      "74/74 [==============================] - 16s 213ms/step - loss: 5.7814e-05 - val_loss: 0.0848\n",
      "Epoch 46/100\n",
      "74/74 [==============================] - 16s 215ms/step - loss: 4.5927e-05 - val_loss: 0.0878\n",
      "Epoch 47/100\n",
      "74/74 [==============================] - 16s 216ms/step - loss: 4.5629e-05 - val_loss: 0.0904\n",
      "Epoch 48/100\n",
      "74/74 [==============================] - 16s 215ms/step - loss: 5.0290e-05 - val_loss: 0.0918\n",
      "Epoch 49/100\n",
      "74/74 [==============================] - 16s 220ms/step - loss: 5.0297e-05 - val_loss: 0.0930\n",
      "Epoch 50/100\n",
      "74/74 [==============================] - 16s 221ms/step - loss: 4.2421e-05 - val_loss: 0.0970\n",
      "Epoch 51/100\n",
      "74/74 [==============================] - 16s 219ms/step - loss: 5.5953e-05 - val_loss: 0.0991\n",
      "Epoch 52/100\n",
      "74/74 [==============================] - 16s 219ms/step - loss: 4.5668e-05 - val_loss: 0.0959\n",
      "Epoch 53/100\n",
      "74/74 [==============================] - 16s 212ms/step - loss: 5.8737e-05 - val_loss: 0.0934\n",
      "Epoch 54/100\n",
      "74/74 [==============================] - 16s 216ms/step - loss: 4.8343e-05 - val_loss: 0.0910\n",
      "Epoch 55/100\n",
      "74/74 [==============================] - 16s 219ms/step - loss: 4.6426e-05 - val_loss: 0.1024\n",
      "Epoch 56/100\n",
      "74/74 [==============================] - 16s 218ms/step - loss: 4.6141e-05 - val_loss: 0.0941\n",
      "Epoch 57/100\n",
      "74/74 [==============================] - 16s 213ms/step - loss: 6.4132e-05 - val_loss: 0.1039\n",
      "Epoch 58/100\n",
      "74/74 [==============================] - 15s 208ms/step - loss: 4.9727e-05 - val_loss: 0.0900\n",
      "Epoch 59/100\n",
      "74/74 [==============================] - 16s 219ms/step - loss: 4.8294e-05 - val_loss: 0.0938\n",
      "Epoch 60/100\n",
      "74/74 [==============================] - 16s 216ms/step - loss: 4.7605e-05 - val_loss: 0.0938\n",
      "Epoch 61/100\n",
      "74/74 [==============================] - 16s 215ms/step - loss: 5.3474e-05 - val_loss: 0.0924\n",
      "Epoch 62/100\n",
      "74/74 [==============================] - 15s 209ms/step - loss: 5.0859e-05 - val_loss: 0.0952\n",
      "Epoch 63/100\n",
      "74/74 [==============================] - 16s 212ms/step - loss: 4.6311e-05 - val_loss: 0.0893\n",
      "Epoch 64/100\n",
      "74/74 [==============================] - 16s 215ms/step - loss: 4.4855e-05 - val_loss: 0.0872\n",
      "Epoch 65/100\n",
      "74/74 [==============================] - 15s 202ms/step - loss: 4.8966e-05 - val_loss: 0.0861\n",
      "Epoch 66/100\n",
      "74/74 [==============================] - 15s 209ms/step - loss: 4.7896e-05 - val_loss: 0.0899\n",
      "Epoch 67/100\n",
      "74/74 [==============================] - 15s 198ms/step - loss: 4.7523e-05 - val_loss: 0.0861\n",
      "Epoch 68/100\n",
      "74/74 [==============================] - 16s 211ms/step - loss: 4.3432e-05 - val_loss: 0.0893\n",
      "Epoch 69/100\n",
      "74/74 [==============================] - 16s 213ms/step - loss: 4.9552e-05 - val_loss: 0.0887\n",
      "Epoch 70/100\n",
      "74/74 [==============================] - 15s 209ms/step - loss: 5.0745e-05 - val_loss: 0.0841\n",
      "Epoch 71/100\n",
      "74/74 [==============================] - 16s 216ms/step - loss: 4.6868e-05 - val_loss: 0.0887\n",
      "Epoch 72/100\n",
      "74/74 [==============================] - 15s 209ms/step - loss: 4.4237e-05 - val_loss: 0.0860\n",
      "Epoch 73/100\n",
      "74/74 [==============================] - 15s 209ms/step - loss: 4.5901e-05 - val_loss: 0.0901\n",
      "Epoch 74/100\n",
      "74/74 [==============================] - 16s 217ms/step - loss: 5.2704e-05 - val_loss: 0.0805\n",
      "Epoch 75/100\n",
      "74/74 [==============================] - 16s 218ms/step - loss: 4.2684e-05 - val_loss: 0.0825\n",
      "Epoch 76/100\n",
      "74/74 [==============================] - 16s 220ms/step - loss: 4.3901e-05 - val_loss: 0.0847\n",
      "Epoch 77/100\n",
      "74/74 [==============================] - 16s 216ms/step - loss: 4.0040e-05 - val_loss: 0.0851\n",
      "Epoch 78/100\n",
      "74/74 [==============================] - 15s 209ms/step - loss: 5.0982e-05 - val_loss: 0.0860\n",
      "Epoch 79/100\n",
      "74/74 [==============================] - 15s 208ms/step - loss: 3.7314e-05 - val_loss: 0.0845\n",
      "Epoch 80/100\n",
      "74/74 [==============================] - 16s 216ms/step - loss: 4.3412e-05 - val_loss: 0.0818\n",
      "Epoch 81/100\n",
      "74/74 [==============================] - 16s 210ms/step - loss: 5.5705e-05 - val_loss: 0.0760\n",
      "Epoch 82/100\n",
      "74/74 [==============================] - 16s 218ms/step - loss: 3.7700e-05 - val_loss: 0.0818\n",
      "Epoch 83/100\n",
      "74/74 [==============================] - 16s 216ms/step - loss: 3.9864e-05 - val_loss: 0.0839\n",
      "Epoch 84/100\n",
      "74/74 [==============================] - 16s 212ms/step - loss: 4.0810e-05 - val_loss: 0.0840\n",
      "Epoch 85/100\n",
      "74/74 [==============================] - 16s 213ms/step - loss: 4.0852e-05 - val_loss: 0.0830\n",
      "Epoch 86/100\n",
      "74/74 [==============================] - 16s 215ms/step - loss: 6.5566e-05 - val_loss: 0.0774\n",
      "Epoch 87/100\n",
      "74/74 [==============================] - 16s 218ms/step - loss: 4.8535e-05 - val_loss: 0.0726\n",
      "Epoch 88/100\n",
      "74/74 [==============================] - 16s 212ms/step - loss: 3.7344e-05 - val_loss: 0.0719\n",
      "Epoch 89/100\n",
      "74/74 [==============================] - 16s 217ms/step - loss: 3.9524e-05 - val_loss: 0.0768\n",
      "Epoch 90/100\n",
      "74/74 [==============================] - 16s 215ms/step - loss: 3.8531e-05 - val_loss: 0.0781\n",
      "Epoch 91/100\n",
      "74/74 [==============================] - 16s 217ms/step - loss: 4.0310e-05 - val_loss: 0.0771\n",
      "Epoch 92/100\n",
      "74/74 [==============================] - 16s 214ms/step - loss: 6.1139e-05 - val_loss: 0.0722\n",
      "Epoch 93/100\n",
      "74/74 [==============================] - 16s 221ms/step - loss: 3.3084e-05 - val_loss: 0.0758\n",
      "Epoch 94/100\n",
      "74/74 [==============================] - 16s 219ms/step - loss: 3.5678e-05 - val_loss: 0.0755\n",
      "Epoch 95/100\n",
      "74/74 [==============================] - 16s 216ms/step - loss: 3.2554e-05 - val_loss: 0.0753\n",
      "Epoch 96/100\n",
      "74/74 [==============================] - 16s 217ms/step - loss: 3.5531e-05 - val_loss: 0.0747\n",
      "Epoch 97/100\n",
      "74/74 [==============================] - 16s 215ms/step - loss: 4.0342e-05 - val_loss: 0.0792\n",
      "Epoch 98/100\n",
      "74/74 [==============================] - 16s 216ms/step - loss: 3.5781e-05 - val_loss: 0.0766\n",
      "Epoch 99/100\n",
      "74/74 [==============================] - 16s 219ms/step - loss: 3.9018e-05 - val_loss: 0.0756\n",
      "Epoch 100/100\n",
      "74/74 [==============================] - 16s 217ms/step - loss: 3.5205e-05 - val_loss: 0.0761\n"
     ]
    }
   ],
   "source": [
    "history = GRU_model.fit(X_train,y_train,validation_data=(X_test,y_test),epochs=100,batch_size=64,verbose=1)"
   ]
  },
  {
   "cell_type": "code",
   "execution_count": 50,
   "metadata": {
    "colab": {
     "base_uri": "https://localhost:8080/",
     "height": 295
    },
    "id": "rJAqFAjcGGSV",
    "outputId": "08b2636d-4479-47cb-cba5-88f62a8070eb"
   },
   "outputs": [
    {
     "data": {
      "image/png": "[encoded data removed]",
      "text/plain": [
       "<Figure size 432x288 with 1 Axes>"
      ]
     },
     "metadata": {
      "needs_background": "light"
     },
     "output_type": "display_data"
    }
   ],
   "source": [
    "plt.plot(history.history['loss'])\n",
    "plt.plot(history.history['val_loss'])\n",
    "plt.title('model loss')\n",
    "plt.ylabel('loss')\n",
    "plt.xlabel('epoch')\n",
    "plt.legend(['train', 'test'], loc='upper left')\n",
    "plt.show()"
   ]
  },
  {
   "cell_type": "code",
   "execution_count": 52,
   "metadata": {
    "id": "ZTsHXpcMNPEO"
   },
   "outputs": [],
   "source": [
    "train_predict = GRU_model.predict(X_train)\n",
    "test_predict = GRU_model.predict(X_test)"
   ]
  },
  {
   "cell_type": "code",
   "execution_count": 53,
   "metadata": {
    "id": "P9kR1IQUNS89"
   },
   "outputs": [],
   "source": [
    "train_predict = scaler.inverse_transform(train_predict)\n",
    "test_predict = scaler.inverse_transform(test_predict)"
   ]
  },
  {
   "cell_type": "code",
   "execution_count": 54,
   "metadata": {
    "colab": {
     "base_uri": "https://localhost:8080/"
    },
    "id": "3e1JMwRJNa6l",
    "outputId": "abcce91f-7930-49a7-e440-4361e0ebe792"
   },
   "outputs": [
    {
     "data": {
      "text/plain": [
       "5.96343349420554"
      ]
     },
     "execution_count": 54,
     "metadata": {},
     "output_type": "execute_result"
    }
   ],
   "source": [
    "import math\n",
    "from sklearn.metrics import mean_squared_error\n",
    "math.sqrt(mean_squared_error(y_train,train_predict))"
   ]
  },
  {
   "cell_type": "code",
   "execution_count": 55,
   "metadata": {
    "colab": {
     "base_uri": "https://localhost:8080/"
    },
    "id": "FBBHkHIyNeGs",
    "outputId": "7575c536-efee-4e56-c103-b9c4b9add4a2"
   },
   "outputs": [
    {
     "data": {
      "text/plain": [
       "10.006745465746913"
      ]
     },
     "execution_count": 55,
     "metadata": {},
     "output_type": "execute_result"
    }
   ],
   "source": [
    "math.sqrt(mean_squared_error(y_test,test_predict))"
   ]
  },
  {
   "cell_type": "code",
   "execution_count": 56,
   "metadata": {
    "colab": {
     "base_uri": "https://localhost:8080/",
     "height": 265
    },
    "id": "XjuGr3YlNhfk",
    "outputId": "84a961c7-8302-4c6c-997e-3e5ec7221caf"
   },
   "outputs": [
    {
     "data": {
      "image/png": "[encoded data removed]",
      "text/plain": [
       "<Figure size 432x288 with 1 Axes>"
      ]
     },
     "metadata": {
      "needs_background": "light"
     },
     "output_type": "display_data"
    }
   ],
   "source": [
    "look_back = 100\n",
    "trainPredictPlot = np.empty_like(df2)\n",
    "trainPredictPlot[:, :] = np.nan\n",
    "trainPredictPlot[look_back:len(train_predict)+look_back, :] = train_predict\n",
    "testPredictPlot = np.empty_like(df2)\n",
    "testPredictPlot[:, :] = np.nan\n",
    "testPredictPlot[len(train_predict)+(look_back*2)+1:len(df1)-1, :] = test_predict\n",
    "plt.plot(scaler.inverse_transform(df2))\n",
    "plt.plot(trainPredictPlot)\n",
    "plt.plot(testPredictPlot)\n",
    "plt.show()"
   ]
  },
  {
   "cell_type": "code",
   "execution_count": null,
   "metadata": {
    "id": "wNFYgAayNpx1"
   },
   "outputs": [],
   "source": []
  }
 ],
 "metadata": {
  "colab": {
   "name": "GRU_Model.ipynb",
   "provenance": []
  },
  "kernelspec": {
   "display_name": "Python 3",
   "language": "python",
   "name": "python3"
  },
  "language_info": {
   "codemirror_mode": {
    "name": "ipython",
    "version": 3
   },
   "file_extension": ".py",
   "mimetype": "text/x-python",
   "name": "python",
   "nbconvert_exporter": "python",
   "pygments_lexer": "ipython3",
   "version": "3.8.10"
  }
 },
 "nbformat": 4,
 "nbformat_minor": 1
}
